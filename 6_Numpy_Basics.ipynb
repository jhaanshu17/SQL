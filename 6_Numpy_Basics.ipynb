{
  "nbformat": 4,
  "nbformat_minor": 0,
  "metadata": {
    "colab": {
      "provenance": [],
      "include_colab_link": true
    },
    "kernelspec": {
      "name": "python3",
      "display_name": "Python 3"
    },
    "language_info": {
      "name": "python"
    }
  },
  "cells": [
    {
      "cell_type": "markdown",
      "metadata": {
        "id": "view-in-github",
        "colab_type": "text"
      },
      "source": [
        "<a href=\"https://colab.research.google.com/github/jhaanshu17/SQL/blob/main/6_Numpy_Basics.ipynb\" target=\"_parent\"><img src=\"https://colab.research.google.com/assets/colab-badge.svg\" alt=\"Open In Colab\"/></a>"
      ]
    },
    {
      "cell_type": "markdown",
      "source": [
        "# Numpy Array Dimensions\n",
        "\n",
        "1D Array\n",
        "\n",
        "2D Array\n",
        "\n",
        "3D Array"
      ],
      "metadata": {
        "id": "QdotJTdfDIG0"
      }
    },
    {
      "cell_type": "code",
      "source": [
        "import numpy as np     # importing numpy library"
      ],
      "metadata": {
        "id": "P2t3s34aC8zd"
      },
      "execution_count": 3,
      "outputs": []
    },
    {
      "cell_type": "code",
      "source": [
        "A = np.array(5)        # Scalar Array\n",
        "A"
      ],
      "metadata": {
        "id": "duYpdIjTC81i",
        "colab": {
          "base_uri": "https://localhost:8080/"
        },
        "outputId": "cacb3fe6-d3bf-4f5f-c9b0-9da743ffe3ef"
      },
      "execution_count": 4,
      "outputs": [
        {
          "output_type": "execute_result",
          "data": {
            "text/plain": [
              "array(5)"
            ]
          },
          "metadata": {},
          "execution_count": 4
        }
      ]
    },
    {
      "cell_type": "code",
      "source": [
        "np.ndim(A)               # Dimension method"
      ],
      "metadata": {
        "id": "kH5n4yfUC83W",
        "colab": {
          "base_uri": "https://localhost:8080/"
        },
        "outputId": "0d67f2d4-8cd5-497c-a6bf-fc0db9760c1d"
      },
      "execution_count": 5,
      "outputs": [
        {
          "output_type": "execute_result",
          "data": {
            "text/plain": [
              "0"
            ]
          },
          "metadata": {},
          "execution_count": 5
        }
      ]
    },
    {
      "cell_type": "code",
      "source": [
        "One = np.array([1, 2, 3, 4, 5])\n",
        "# Two = np.array([[1, 2, 3], [4, 5, 6]])\n",
        "Three = np.array([[[1, 2, 3], [4, 5, 6]],\n",
        "                  [[7, 8, 9], [10, 11, 12]]])"
      ],
      "metadata": {
        "id": "NUIfRVB_C86s"
      },
      "execution_count": 11,
      "outputs": []
    },
    {
      "cell_type": "code",
      "source": [
        "Three"
      ],
      "metadata": {
        "id": "LLRl5-qMdOTG",
        "colab": {
          "base_uri": "https://localhost:8080/"
        },
        "outputId": "957f2dd9-5c21-4685-d974-361b6db405da"
      },
      "execution_count": 12,
      "outputs": [
        {
          "output_type": "execute_result",
          "data": {
            "text/plain": [
              "array([[[ 1,  2,  3],\n",
              "        [ 4,  5,  6]],\n",
              "\n",
              "       [[ 7,  8,  9],\n",
              "        [10, 11, 12]]])"
            ]
          },
          "metadata": {},
          "execution_count": 12
        }
      ]
    },
    {
      "cell_type": "code",
      "source": [
        "One"
      ],
      "metadata": {
        "id": "3AvnXEaqnX84",
        "outputId": "8f25fbf5-2aff-4dc9-cb27-472a1bb85652",
        "colab": {
          "base_uri": "https://localhost:8080/"
        }
      },
      "execution_count": 9,
      "outputs": [
        {
          "output_type": "execute_result",
          "data": {
            "text/plain": [
              "array([1, 2, 3, 4, 5])"
            ]
          },
          "metadata": {},
          "execution_count": 9
        }
      ]
    },
    {
      "cell_type": "code",
      "source": [
        "Three.shape\n",
        "np.ndim(Three)"
      ],
      "metadata": {
        "id": "UfLxRm6mWMpl",
        "colab": {
          "base_uri": "https://localhost:8080/"
        },
        "outputId": "a5f90494-dc26-43a5-f419-e1d0ec39031c"
      },
      "execution_count": 13,
      "outputs": [
        {
          "output_type": "execute_result",
          "data": {
            "text/plain": [
              "3"
            ]
          },
          "metadata": {},
          "execution_count": 13
        }
      ]
    },
    {
      "cell_type": "code",
      "source": [
        "np.ndim(One)\n",
        "np.ndim(Two)\n",
        "np.ndim(Three)"
      ],
      "metadata": {
        "id": "b__zQgAvC88z",
        "colab": {
          "base_uri": "https://localhost:8080/"
        },
        "outputId": "e82e779a-066b-463a-9e63-2cbd31ad2fe4"
      },
      "execution_count": null,
      "outputs": [
        {
          "output_type": "execute_result",
          "data": {
            "text/plain": [
              "3"
            ]
          },
          "metadata": {},
          "execution_count": 27
        }
      ]
    },
    {
      "cell_type": "code",
      "source": [],
      "metadata": {
        "id": "g4Iyxu54C8-q"
      },
      "execution_count": null,
      "outputs": []
    },
    {
      "cell_type": "code",
      "source": [],
      "metadata": {
        "id": "MoBHvmZHC9CD"
      },
      "execution_count": null,
      "outputs": []
    },
    {
      "cell_type": "markdown",
      "source": [
        "# List vs Numpy Array"
      ],
      "metadata": {
        "id": "GHBp5JWLHCQN"
      }
    },
    {
      "cell_type": "code",
      "source": [
        "list1 = [1,4.0,'apple']                     # List - Different Datatypes\n",
        "arr = np.array([1, 2, 3, 4, 5])             # Array - Similar Datatypes"
      ],
      "metadata": {
        "id": "av6OOp0MC9EL"
      },
      "execution_count": 14,
      "outputs": []
    },
    {
      "cell_type": "code",
      "source": [
        "arr"
      ],
      "metadata": {
        "id": "3KS2a04Tf9ZZ",
        "colab": {
          "base_uri": "https://localhost:8080/"
        },
        "outputId": "9be1f7b7-7ea7-4ac8-f1f9-dd8d3f97e0ea"
      },
      "execution_count": 15,
      "outputs": [
        {
          "output_type": "execute_result",
          "data": {
            "text/plain": [
              "array([1, 2, 3, 4, 5])"
            ]
          },
          "metadata": {},
          "execution_count": 15
        }
      ]
    },
    {
      "cell_type": "code",
      "source": [
        "arr = np.array([1, 2, 3.9, 'apple'])        # Type Conversion"
      ],
      "metadata": {
        "id": "yMGXeXRGHMaU"
      },
      "execution_count": 16,
      "outputs": []
    },
    {
      "cell_type": "code",
      "source": [
        "arr"
      ],
      "metadata": {
        "id": "UFqozM89XtBY",
        "colab": {
          "base_uri": "https://localhost:8080/"
        },
        "outputId": "1d4cd464-a593-41c6-889e-00252ccbedf3"
      },
      "execution_count": 17,
      "outputs": [
        {
          "output_type": "execute_result",
          "data": {
            "text/plain": [
              "array(['1', '2', '3.9', 'apple'], dtype='<U32')"
            ]
          },
          "metadata": {},
          "execution_count": 17
        }
      ]
    },
    {
      "cell_type": "code",
      "source": [
        "arr = np.array([1, 2, 3, 4, 5])             # Allows Mathematical Operations\n",
        "\n",
        "# arr/5\n",
        "list1/5"
      ],
      "metadata": {
        "id": "0WNjsiw9HMdu",
        "colab": {
          "base_uri": "https://localhost:8080/",
          "height": 176
        },
        "outputId": "f122b40f-f7c4-4c92-cfe0-e9d49f5b5adc"
      },
      "execution_count": 18,
      "outputs": [
        {
          "output_type": "error",
          "ename": "TypeError",
          "evalue": "unsupported operand type(s) for /: 'list' and 'int'",
          "traceback": [
            "\u001b[0;31m---------------------------------------------------------------------------\u001b[0m",
            "\u001b[0;31mTypeError\u001b[0m                                 Traceback (most recent call last)",
            "\u001b[0;32m<ipython-input-18-f4426fa0b0dc>\u001b[0m in \u001b[0;36m<cell line: 4>\u001b[0;34m()\u001b[0m\n\u001b[1;32m      2\u001b[0m \u001b[0;34m\u001b[0m\u001b[0m\n\u001b[1;32m      3\u001b[0m \u001b[0;31m# arr/5\u001b[0m\u001b[0;34m\u001b[0m\u001b[0;34m\u001b[0m\u001b[0m\n\u001b[0;32m----> 4\u001b[0;31m \u001b[0mlist1\u001b[0m\u001b[0;34m/\u001b[0m\u001b[0;36m5\u001b[0m\u001b[0;34m\u001b[0m\u001b[0;34m\u001b[0m\u001b[0m\n\u001b[0m",
            "\u001b[0;31mTypeError\u001b[0m: unsupported operand type(s) for /: 'list' and 'int'"
          ]
        }
      ]
    },
    {
      "cell_type": "code",
      "source": [
        "arr/5"
      ],
      "metadata": {
        "id": "mA36IcVhKX5N",
        "outputId": "5e58ec2f-c561-44b9-ac95-d025b2b9695a",
        "colab": {
          "base_uri": "https://localhost:8080/"
        }
      },
      "execution_count": 19,
      "outputs": [
        {
          "output_type": "execute_result",
          "data": {
            "text/plain": [
              "array([0.2, 0.4, 0.6, 0.8, 1. ])"
            ]
          },
          "metadata": {},
          "execution_count": 19
        }
      ]
    },
    {
      "cell_type": "markdown",
      "source": [
        "# More Advantages of Numpy Array over list\n",
        "\n",
        "*   Array consumes less memory\n",
        "*   Array are faster than lists\n",
        "\n"
      ],
      "metadata": {
        "id": "Aqu_C2A7J9lu"
      }
    },
    {
      "cell_type": "code",
      "source": [
        "arr+5"
      ],
      "metadata": {
        "id": "k0dl0ke-KWwi",
        "outputId": "18d055be-7cc9-48d9-903c-6d8c66786b1b",
        "colab": {
          "base_uri": "https://localhost:8080/"
        }
      },
      "execution_count": 20,
      "outputs": [
        {
          "output_type": "execute_result",
          "data": {
            "text/plain": [
              "array([ 6,  7,  8,  9, 10])"
            ]
          },
          "metadata": {},
          "execution_count": 20
        }
      ]
    },
    {
      "cell_type": "code",
      "source": [],
      "metadata": {
        "id": "no42aAEFLkGO"
      },
      "execution_count": null,
      "outputs": []
    },
    {
      "cell_type": "code",
      "source": [],
      "metadata": {
        "id": "rArm66RPLkIO"
      },
      "execution_count": null,
      "outputs": []
    },
    {
      "cell_type": "markdown",
      "source": [
        "# Reshaping arrays\n",
        "\n",
        "Reshaping means changing the shape of an array."
      ],
      "metadata": {
        "id": "Q2a3EUKFLlt_"
      }
    },
    {
      "cell_type": "code",
      "source": [
        "arr = np.array([1, 2, 3, 4, 5, 6, 7, 8, 9, 10, 11, 12])   # 1D Array\n",
        "\n",
        "# 1D to 2D Array\n",
        "newarr = arr.reshape(3, 4)\n"
      ],
      "metadata": {
        "id": "WpAVFBamLkrt"
      },
      "execution_count": 21,
      "outputs": []
    },
    {
      "cell_type": "code",
      "source": [
        "print(newarr)"
      ],
      "metadata": {
        "id": "eU_QdrgQMhpe",
        "colab": {
          "base_uri": "https://localhost:8080/"
        },
        "outputId": "1e694c4a-dc48-4d65-c64b-23c4bfc67f43"
      },
      "execution_count": 22,
      "outputs": [
        {
          "output_type": "stream",
          "name": "stdout",
          "text": [
            "[[ 1  2  3  4]\n",
            " [ 5  6  7  8]\n",
            " [ 9 10 11 12]]\n"
          ]
        }
      ]
    },
    {
      "cell_type": "code",
      "source": [
        "# 1D to 3D Array\n",
        "\n",
        "newarr = arr.reshape(2, 2, 3)    # x,y,z: x = matrix, y = rows, z = cols\n"
      ],
      "metadata": {
        "id": "AYkQVlWjMhrl"
      },
      "execution_count": 31,
      "outputs": []
    },
    {
      "cell_type": "code",
      "source": [
        "print(newarr)"
      ],
      "metadata": {
        "id": "vLMa7U4rnLmR",
        "colab": {
          "base_uri": "https://localhost:8080/"
        },
        "outputId": "ee61b8d6-ff93-463a-b757-4f516090f859"
      },
      "execution_count": 32,
      "outputs": [
        {
          "output_type": "stream",
          "name": "stdout",
          "text": [
            "[[[ 1  2  3]\n",
            "  [ 4  5  6]]\n",
            "\n",
            " [[ 7  8  9]\n",
            "  [10 11 12]]]\n"
          ]
        }
      ]
    },
    {
      "cell_type": "code",
      "source": [],
      "metadata": {
        "id": "eWlpDJzgnLoX"
      },
      "execution_count": null,
      "outputs": []
    },
    {
      "cell_type": "code",
      "source": [],
      "metadata": {
        "id": "dHgqTZSLnLrq"
      },
      "execution_count": null,
      "outputs": []
    },
    {
      "cell_type": "code",
      "source": [
        "# print(newarr)"
      ],
      "metadata": {
        "id": "x6PYF8phMhxF"
      },
      "execution_count": null,
      "outputs": []
    },
    {
      "cell_type": "code",
      "source": [],
      "metadata": {
        "id": "7I6IWAVEOgNl"
      },
      "execution_count": null,
      "outputs": []
    },
    {
      "cell_type": "code",
      "source": [],
      "metadata": {
        "id": "CQWlxqh_Omcv"
      },
      "execution_count": null,
      "outputs": []
    },
    {
      "cell_type": "markdown",
      "source": [
        "# Array Indexing\n",
        "\n",
        "Array indexing is the same as accessing an array element.\n",
        "\n",
        "You can access an array element by referring to its index number."
      ],
      "metadata": {
        "id": "PgIzIak6OoFm"
      }
    },
    {
      "cell_type": "code",
      "source": [
        "arr = np.array([1, 2, 3, 4])              # Accessing 1D Array\n",
        "\n",
        "print(arr[3])"
      ],
      "metadata": {
        "id": "0tX3tbEiOyG5",
        "colab": {
          "base_uri": "https://localhost:8080/"
        },
        "outputId": "f3d0106a-9067-47c4-d177-95adce951d43"
      },
      "execution_count": 33,
      "outputs": [
        {
          "output_type": "stream",
          "name": "stdout",
          "text": [
            "4\n"
          ]
        }
      ]
    },
    {
      "cell_type": "code",
      "source": [
        "print(arr[0] + arr[1])                 # Addition of 2 elements"
      ],
      "metadata": {
        "id": "Tsmv3DEFOypt",
        "colab": {
          "base_uri": "https://localhost:8080/"
        },
        "outputId": "d0addd79-baf7-48dc-8c17-ba9ca31c020f"
      },
      "execution_count": 34,
      "outputs": [
        {
          "output_type": "stream",
          "name": "stdout",
          "text": [
            "3\n"
          ]
        }
      ]
    },
    {
      "cell_type": "code",
      "source": [
        "arr = np.array([[1,2,3,4,5], [6,7,8,9,10]])  # Accessing 2D Array\n",
        "arr.shape\n",
        "\n",
        "print(arr[1, 0])                          # 1st row 4th element\n",
        "print(arr[1, 1])                          # 2nd row 5th element\n",
        "print(arr[1,3])"
      ],
      "metadata": {
        "id": "3Rr5Z3S8Oyrd",
        "colab": {
          "base_uri": "https://localhost:8080/"
        },
        "outputId": "cc93d14c-6254-4431-9c9b-c3b3525c3d6a"
      },
      "execution_count": 39,
      "outputs": [
        {
          "output_type": "stream",
          "name": "stdout",
          "text": [
            "6\n",
            "7\n",
            "9\n"
          ]
        }
      ]
    },
    {
      "cell_type": "code",
      "source": [
        "arr"
      ],
      "metadata": {
        "id": "GASoXUNzpJRD",
        "colab": {
          "base_uri": "https://localhost:8080/"
        },
        "outputId": "506c8d47-3b11-4cfd-fdc9-35c29d3f19f7"
      },
      "execution_count": 40,
      "outputs": [
        {
          "output_type": "execute_result",
          "data": {
            "text/plain": [
              "array([[ 1,  2,  3,  4,  5],\n",
              "       [ 6,  7,  8,  9, 10]])"
            ]
          },
          "metadata": {},
          "execution_count": 40
        }
      ]
    },
    {
      "cell_type": "code",
      "source": [
        "arr3 = np.array([[[1, 2, 3], [4, 5, 6]], [[7, 8, 9], [10, 11, 12]]])   # Accessing 3D Array\n",
        "\n",
        "arr3.shape\n",
        "# print(arr3)\n",
        "# print(arr3[0, 0, 2])               # 1st matrix, 1st row, 3rd column\n",
        "# # print(arr3[1, 1, 1])               # 1st matrix, 2nd row, 1st column\n",
        "# print(arr3[0,1,0])"
      ],
      "metadata": {
        "id": "7YsdWkpKOyvF",
        "colab": {
          "base_uri": "https://localhost:8080/"
        },
        "outputId": "dbe4abe6-92c3-42b1-ef3f-00ac22635290"
      },
      "execution_count": 44,
      "outputs": [
        {
          "output_type": "execute_result",
          "data": {
            "text/plain": [
              "(2, 2, 3)"
            ]
          },
          "metadata": {},
          "execution_count": 44
        }
      ]
    },
    {
      "cell_type": "code",
      "source": [
        "print(arr3)"
      ],
      "metadata": {
        "id": "fiEowiPXu9Ll",
        "outputId": "b5315493-4657-4c08-8f1e-e4d3095bd59e",
        "colab": {
          "base_uri": "https://localhost:8080/"
        }
      },
      "execution_count": 45,
      "outputs": [
        {
          "output_type": "stream",
          "name": "stdout",
          "text": [
            "[[[ 1  2  3]\n",
            "  [ 4  5  6]]\n",
            "\n",
            " [[ 7  8  9]\n",
            "  [10 11 12]]]\n"
          ]
        }
      ]
    },
    {
      "cell_type": "code",
      "source": [
        "print(0,1,2)"
      ],
      "metadata": {
        "id": "5AAUTgXkpIrZ",
        "colab": {
          "base_uri": "https://localhost:8080/"
        },
        "outputId": "bbee1bf8-4662-4661-d725-87c481568edf"
      },
      "execution_count": 48,
      "outputs": [
        {
          "output_type": "stream",
          "name": "stdout",
          "text": [
            "0 1 2\n"
          ]
        }
      ]
    },
    {
      "cell_type": "code",
      "source": [
        "print(arr3[1,1,2])"
      ],
      "metadata": {
        "id": "rPuQA0msRYGP",
        "outputId": "e8ccb7c3-992b-4b0e-b351-9b85abe4f661",
        "colab": {
          "base_uri": "https://localhost:8080/"
        }
      },
      "execution_count": 55,
      "outputs": [
        {
          "output_type": "stream",
          "name": "stdout",
          "text": [
            "12\n"
          ]
        }
      ]
    }
  ]
}